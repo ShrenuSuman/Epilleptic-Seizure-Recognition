{
  "cells": [
    {
      "cell_type": "code",
      "execution_count": null,
      "metadata": {
        "id": "4ZPWaG_9v37e"
      },
      "outputs": [],
      "source": [
        "import pandas as pd\n",
        "import numpy as np\n",
        "from sklearn.model_selection import train_test_split\n",
        "from sklearn.metrics import  accuracy_score, precision_score, recall_score, f1_score, confusion_matrix\n",
        "from sklearn.neural_network import MLPClassifier\n",
        "from sklearn.naive_bayes import GaussianNB\n",
        "from sklearn.neighbors import KNeighborsClassifier\n",
        "from sklearn.svm import SVC\n",
        "import matplotlib.pyplot as plt\n",
        "import seaborn as sns\n",
        "sns.set_style(\"whitegrid\")\n",
        "from sklearn.preprocessing import StandardScaler\n",
        "import tensorflow as tf\n",
        "import pywt\n",
        "from keras.models import Sequential\n",
        "from keras.utils import np_utils\n",
        "from keras.layers import Dense, BatchNormalization,Dropout,LSTM,Dense,Activation,Flatten\n"
      ]
    },
    {
      "cell_type": "code",
      "execution_count": null,
      "metadata": {
        "colab": {
          "base_uri": "https://localhost:8080/"
        },
        "id": "nGo1j6KUwGEI",
        "outputId": "1188f5e3-b8a3-4ada-d6fb-d3d351ea0d62"
      },
      "outputs": [
        {
          "output_type": "stream",
          "name": "stdout",
          "text": [
            "Mounted at /content/drive\n"
          ]
        }
      ],
      "source": [
        "from google.colab import drive\n",
        "drive.mount('/content/drive')"
      ]
    },
    {
      "cell_type": "code",
      "execution_count": null,
      "metadata": {
        "id": "jcAHAdwOwiNT"
      },
      "outputs": [],
      "source": [
        "data = pd.read_csv('/content/drive/MyDrive/Epileptic Seizure Recognition.csv')"
      ]
    },
    {
      "cell_type": "markdown",
      "source": [
        "**Dataset**"
      ],
      "metadata": {
        "id": "zkaAexSraFW7"
      }
    },
    {
      "cell_type": "code",
      "source": [
        "data.head()"
      ],
      "metadata": {
        "colab": {
          "base_uri": "https://localhost:8080/",
          "height": 235
        },
        "id": "L9ZtAGHW_gH_",
        "outputId": "ba2858b0-392a-4ec9-834e-d22051933132"
      },
      "execution_count": null,
      "outputs": [
        {
          "output_type": "execute_result",
          "data": {
            "text/plain": [
              "      Unnamed   X1   X2   X3   X4   X5   X6   X7   X8   X9  ...  X170  X171  \\\n",
              "0  X21.V1.791  135  190  229  223  192  125   55   -9  -33  ...   -17   -15   \n",
              "1  X15.V1.924  386  382  356  331  320  315  307  272  244  ...   164   150   \n",
              "2     X8.V1.1  -32  -39  -47  -37  -32  -36  -57  -73  -85  ...    57    64   \n",
              "3   X16.V1.60 -105 -101  -96  -92  -89  -95 -102 -100  -87  ...   -82   -81   \n",
              "4   X20.V1.54   -9  -65  -98 -102  -78  -48  -16    0  -21  ...     4     2   \n",
              "\n",
              "   X172  X173  X174  X175  X176  X177  X178  y  \n",
              "0   -31   -77  -103  -127  -116   -83   -51  4  \n",
              "1   146   152   157   156   154   143   129  1  \n",
              "2    48    19   -12   -30   -35   -35   -36  5  \n",
              "3   -80   -77   -85   -77   -72   -69   -65  5  \n",
              "4   -12   -32   -41   -65   -83   -89   -73  5  \n",
              "\n",
              "[5 rows x 180 columns]"
            ],
            "text/html": [
              "\n",
              "  <div id=\"df-2df70276-9a2d-493f-81f0-b51f45f3bdd3\">\n",
              "    <div class=\"colab-df-container\">\n",
              "      <div>\n",
              "<style scoped>\n",
              "    .dataframe tbody tr th:only-of-type {\n",
              "        vertical-align: middle;\n",
              "    }\n",
              "\n",
              "    .dataframe tbody tr th {\n",
              "        vertical-align: top;\n",
              "    }\n",
              "\n",
              "    .dataframe thead th {\n",
              "        text-align: right;\n",
              "    }\n",
              "</style>\n",
              "<table border=\"1\" class=\"dataframe\">\n",
              "  <thead>\n",
              "    <tr style=\"text-align: right;\">\n",
              "      <th></th>\n",
              "      <th>Unnamed</th>\n",
              "      <th>X1</th>\n",
              "      <th>X2</th>\n",
              "      <th>X3</th>\n",
              "      <th>X4</th>\n",
              "      <th>X5</th>\n",
              "      <th>X6</th>\n",
              "      <th>X7</th>\n",
              "      <th>X8</th>\n",
              "      <th>X9</th>\n",
              "      <th>...</th>\n",
              "      <th>X170</th>\n",
              "      <th>X171</th>\n",
              "      <th>X172</th>\n",
              "      <th>X173</th>\n",
              "      <th>X174</th>\n",
              "      <th>X175</th>\n",
              "      <th>X176</th>\n",
              "      <th>X177</th>\n",
              "      <th>X178</th>\n",
              "      <th>y</th>\n",
              "    </tr>\n",
              "  </thead>\n",
              "  <tbody>\n",
              "    <tr>\n",
              "      <th>0</th>\n",
              "      <td>X21.V1.791</td>\n",
              "      <td>135</td>\n",
              "      <td>190</td>\n",
              "      <td>229</td>\n",
              "      <td>223</td>\n",
              "      <td>192</td>\n",
              "      <td>125</td>\n",
              "      <td>55</td>\n",
              "      <td>-9</td>\n",
              "      <td>-33</td>\n",
              "      <td>...</td>\n",
              "      <td>-17</td>\n",
              "      <td>-15</td>\n",
              "      <td>-31</td>\n",
              "      <td>-77</td>\n",
              "      <td>-103</td>\n",
              "      <td>-127</td>\n",
              "      <td>-116</td>\n",
              "      <td>-83</td>\n",
              "      <td>-51</td>\n",
              "      <td>4</td>\n",
              "    </tr>\n",
              "    <tr>\n",
              "      <th>1</th>\n",
              "      <td>X15.V1.924</td>\n",
              "      <td>386</td>\n",
              "      <td>382</td>\n",
              "      <td>356</td>\n",
              "      <td>331</td>\n",
              "      <td>320</td>\n",
              "      <td>315</td>\n",
              "      <td>307</td>\n",
              "      <td>272</td>\n",
              "      <td>244</td>\n",
              "      <td>...</td>\n",
              "      <td>164</td>\n",
              "      <td>150</td>\n",
              "      <td>146</td>\n",
              "      <td>152</td>\n",
              "      <td>157</td>\n",
              "      <td>156</td>\n",
              "      <td>154</td>\n",
              "      <td>143</td>\n",
              "      <td>129</td>\n",
              "      <td>1</td>\n",
              "    </tr>\n",
              "    <tr>\n",
              "      <th>2</th>\n",
              "      <td>X8.V1.1</td>\n",
              "      <td>-32</td>\n",
              "      <td>-39</td>\n",
              "      <td>-47</td>\n",
              "      <td>-37</td>\n",
              "      <td>-32</td>\n",
              "      <td>-36</td>\n",
              "      <td>-57</td>\n",
              "      <td>-73</td>\n",
              "      <td>-85</td>\n",
              "      <td>...</td>\n",
              "      <td>57</td>\n",
              "      <td>64</td>\n",
              "      <td>48</td>\n",
              "      <td>19</td>\n",
              "      <td>-12</td>\n",
              "      <td>-30</td>\n",
              "      <td>-35</td>\n",
              "      <td>-35</td>\n",
              "      <td>-36</td>\n",
              "      <td>5</td>\n",
              "    </tr>\n",
              "    <tr>\n",
              "      <th>3</th>\n",
              "      <td>X16.V1.60</td>\n",
              "      <td>-105</td>\n",
              "      <td>-101</td>\n",
              "      <td>-96</td>\n",
              "      <td>-92</td>\n",
              "      <td>-89</td>\n",
              "      <td>-95</td>\n",
              "      <td>-102</td>\n",
              "      <td>-100</td>\n",
              "      <td>-87</td>\n",
              "      <td>...</td>\n",
              "      <td>-82</td>\n",
              "      <td>-81</td>\n",
              "      <td>-80</td>\n",
              "      <td>-77</td>\n",
              "      <td>-85</td>\n",
              "      <td>-77</td>\n",
              "      <td>-72</td>\n",
              "      <td>-69</td>\n",
              "      <td>-65</td>\n",
              "      <td>5</td>\n",
              "    </tr>\n",
              "    <tr>\n",
              "      <th>4</th>\n",
              "      <td>X20.V1.54</td>\n",
              "      <td>-9</td>\n",
              "      <td>-65</td>\n",
              "      <td>-98</td>\n",
              "      <td>-102</td>\n",
              "      <td>-78</td>\n",
              "      <td>-48</td>\n",
              "      <td>-16</td>\n",
              "      <td>0</td>\n",
              "      <td>-21</td>\n",
              "      <td>...</td>\n",
              "      <td>4</td>\n",
              "      <td>2</td>\n",
              "      <td>-12</td>\n",
              "      <td>-32</td>\n",
              "      <td>-41</td>\n",
              "      <td>-65</td>\n",
              "      <td>-83</td>\n",
              "      <td>-89</td>\n",
              "      <td>-73</td>\n",
              "      <td>5</td>\n",
              "    </tr>\n",
              "  </tbody>\n",
              "</table>\n",
              "<p>5 rows × 180 columns</p>\n",
              "</div>\n",
              "      <button class=\"colab-df-convert\" onclick=\"convertToInteractive('df-2df70276-9a2d-493f-81f0-b51f45f3bdd3')\"\n",
              "              title=\"Convert this dataframe to an interactive table.\"\n",
              "              style=\"display:none;\">\n",
              "        \n",
              "  <svg xmlns=\"http://www.w3.org/2000/svg\" height=\"24px\"viewBox=\"0 0 24 24\"\n",
              "       width=\"24px\">\n",
              "    <path d=\"M0 0h24v24H0V0z\" fill=\"none\"/>\n",
              "    <path d=\"M18.56 5.44l.94 2.06.94-2.06 2.06-.94-2.06-.94-.94-2.06-.94 2.06-2.06.94zm-11 1L8.5 8.5l.94-2.06 2.06-.94-2.06-.94L8.5 2.5l-.94 2.06-2.06.94zm10 10l.94 2.06.94-2.06 2.06-.94-2.06-.94-.94-2.06-.94 2.06-2.06.94z\"/><path d=\"M17.41 7.96l-1.37-1.37c-.4-.4-.92-.59-1.43-.59-.52 0-1.04.2-1.43.59L10.3 9.45l-7.72 7.72c-.78.78-.78 2.05 0 2.83L4 21.41c.39.39.9.59 1.41.59.51 0 1.02-.2 1.41-.59l7.78-7.78 2.81-2.81c.8-.78.8-2.07 0-2.86zM5.41 20L4 18.59l7.72-7.72 1.47 1.35L5.41 20z\"/>\n",
              "  </svg>\n",
              "      </button>\n",
              "      \n",
              "  <style>\n",
              "    .colab-df-container {\n",
              "      display:flex;\n",
              "      flex-wrap:wrap;\n",
              "      gap: 12px;\n",
              "    }\n",
              "\n",
              "    .colab-df-convert {\n",
              "      background-color: #E8F0FE;\n",
              "      border: none;\n",
              "      border-radius: 50%;\n",
              "      cursor: pointer;\n",
              "      display: none;\n",
              "      fill: #1967D2;\n",
              "      height: 32px;\n",
              "      padding: 0 0 0 0;\n",
              "      width: 32px;\n",
              "    }\n",
              "\n",
              "    .colab-df-convert:hover {\n",
              "      background-color: #E2EBFA;\n",
              "      box-shadow: 0px 1px 2px rgba(60, 64, 67, 0.3), 0px 1px 3px 1px rgba(60, 64, 67, 0.15);\n",
              "      fill: #174EA6;\n",
              "    }\n",
              "\n",
              "    [theme=dark] .colab-df-convert {\n",
              "      background-color: #3B4455;\n",
              "      fill: #D2E3FC;\n",
              "    }\n",
              "\n",
              "    [theme=dark] .colab-df-convert:hover {\n",
              "      background-color: #434B5C;\n",
              "      box-shadow: 0px 1px 3px 1px rgba(0, 0, 0, 0.15);\n",
              "      filter: drop-shadow(0px 1px 2px rgba(0, 0, 0, 0.3));\n",
              "      fill: #FFFFFF;\n",
              "    }\n",
              "  </style>\n",
              "\n",
              "      <script>\n",
              "        const buttonEl =\n",
              "          document.querySelector('#df-2df70276-9a2d-493f-81f0-b51f45f3bdd3 button.colab-df-convert');\n",
              "        buttonEl.style.display =\n",
              "          google.colab.kernel.accessAllowed ? 'block' : 'none';\n",
              "\n",
              "        async function convertToInteractive(key) {\n",
              "          const element = document.querySelector('#df-2df70276-9a2d-493f-81f0-b51f45f3bdd3');\n",
              "          const dataTable =\n",
              "            await google.colab.kernel.invokeFunction('convertToInteractive',\n",
              "                                                     [key], {});\n",
              "          if (!dataTable) return;\n",
              "\n",
              "          const docLinkHtml = 'Like what you see? Visit the ' +\n",
              "            '<a target=\"_blank\" href=https://colab.research.google.com/notebooks/data_table.ipynb>data table notebook</a>'\n",
              "            + ' to learn more about interactive tables.';\n",
              "          element.innerHTML = '';\n",
              "          dataTable['output_type'] = 'display_data';\n",
              "          await google.colab.output.renderOutput(dataTable, element);\n",
              "          const docLink = document.createElement('div');\n",
              "          docLink.innerHTML = docLinkHtml;\n",
              "          element.appendChild(docLink);\n",
              "        }\n",
              "      </script>\n",
              "    </div>\n",
              "  </div>\n",
              "  "
            ]
          },
          "metadata": {},
          "execution_count": 4
        }
      ]
    },
    {
      "cell_type": "code",
      "execution_count": null,
      "metadata": {
        "id": "WSSzpkHlws3C"
      },
      "outputs": [],
      "source": [
        "data.drop('Unnamed', axis=1, inplace=True)"
      ]
    },
    {
      "cell_type": "code",
      "execution_count": null,
      "metadata": {
        "colab": {
          "base_uri": "https://localhost:8080/",
          "height": 235
        },
        "id": "BV6tplsIw2uh",
        "outputId": "058a9b65-b94b-4a9c-87b5-66e0252b67e7"
      },
      "outputs": [
        {
          "output_type": "execute_result",
          "data": {
            "text/plain": [
              "    X1   X2   X3   X4   X5   X6   X7   X8   X9  X10  ...  X170  X171  X172  \\\n",
              "0  135  190  229  223  192  125   55   -9  -33  -38  ...   -17   -15   -31   \n",
              "1  386  382  356  331  320  315  307  272  244  232  ...   164   150   146   \n",
              "2  -32  -39  -47  -37  -32  -36  -57  -73  -85  -94  ...    57    64    48   \n",
              "3 -105 -101  -96  -92  -89  -95 -102 -100  -87  -79  ...   -82   -81   -80   \n",
              "4   -9  -65  -98 -102  -78  -48  -16    0  -21  -59  ...     4     2   -12   \n",
              "\n",
              "   X173  X174  X175  X176  X177  X178  y  \n",
              "0   -77  -103  -127  -116   -83   -51  4  \n",
              "1   152   157   156   154   143   129  1  \n",
              "2    19   -12   -30   -35   -35   -36  5  \n",
              "3   -77   -85   -77   -72   -69   -65  5  \n",
              "4   -32   -41   -65   -83   -89   -73  5  \n",
              "\n",
              "[5 rows x 179 columns]"
            ],
            "text/html": [
              "\n",
              "  <div id=\"df-e3e510a6-8f48-4c6e-b447-e108e20d5bc8\">\n",
              "    <div class=\"colab-df-container\">\n",
              "      <div>\n",
              "<style scoped>\n",
              "    .dataframe tbody tr th:only-of-type {\n",
              "        vertical-align: middle;\n",
              "    }\n",
              "\n",
              "    .dataframe tbody tr th {\n",
              "        vertical-align: top;\n",
              "    }\n",
              "\n",
              "    .dataframe thead th {\n",
              "        text-align: right;\n",
              "    }\n",
              "</style>\n",
              "<table border=\"1\" class=\"dataframe\">\n",
              "  <thead>\n",
              "    <tr style=\"text-align: right;\">\n",
              "      <th></th>\n",
              "      <th>X1</th>\n",
              "      <th>X2</th>\n",
              "      <th>X3</th>\n",
              "      <th>X4</th>\n",
              "      <th>X5</th>\n",
              "      <th>X6</th>\n",
              "      <th>X7</th>\n",
              "      <th>X8</th>\n",
              "      <th>X9</th>\n",
              "      <th>X10</th>\n",
              "      <th>...</th>\n",
              "      <th>X170</th>\n",
              "      <th>X171</th>\n",
              "      <th>X172</th>\n",
              "      <th>X173</th>\n",
              "      <th>X174</th>\n",
              "      <th>X175</th>\n",
              "      <th>X176</th>\n",
              "      <th>X177</th>\n",
              "      <th>X178</th>\n",
              "      <th>y</th>\n",
              "    </tr>\n",
              "  </thead>\n",
              "  <tbody>\n",
              "    <tr>\n",
              "      <th>0</th>\n",
              "      <td>135</td>\n",
              "      <td>190</td>\n",
              "      <td>229</td>\n",
              "      <td>223</td>\n",
              "      <td>192</td>\n",
              "      <td>125</td>\n",
              "      <td>55</td>\n",
              "      <td>-9</td>\n",
              "      <td>-33</td>\n",
              "      <td>-38</td>\n",
              "      <td>...</td>\n",
              "      <td>-17</td>\n",
              "      <td>-15</td>\n",
              "      <td>-31</td>\n",
              "      <td>-77</td>\n",
              "      <td>-103</td>\n",
              "      <td>-127</td>\n",
              "      <td>-116</td>\n",
              "      <td>-83</td>\n",
              "      <td>-51</td>\n",
              "      <td>4</td>\n",
              "    </tr>\n",
              "    <tr>\n",
              "      <th>1</th>\n",
              "      <td>386</td>\n",
              "      <td>382</td>\n",
              "      <td>356</td>\n",
              "      <td>331</td>\n",
              "      <td>320</td>\n",
              "      <td>315</td>\n",
              "      <td>307</td>\n",
              "      <td>272</td>\n",
              "      <td>244</td>\n",
              "      <td>232</td>\n",
              "      <td>...</td>\n",
              "      <td>164</td>\n",
              "      <td>150</td>\n",
              "      <td>146</td>\n",
              "      <td>152</td>\n",
              "      <td>157</td>\n",
              "      <td>156</td>\n",
              "      <td>154</td>\n",
              "      <td>143</td>\n",
              "      <td>129</td>\n",
              "      <td>1</td>\n",
              "    </tr>\n",
              "    <tr>\n",
              "      <th>2</th>\n",
              "      <td>-32</td>\n",
              "      <td>-39</td>\n",
              "      <td>-47</td>\n",
              "      <td>-37</td>\n",
              "      <td>-32</td>\n",
              "      <td>-36</td>\n",
              "      <td>-57</td>\n",
              "      <td>-73</td>\n",
              "      <td>-85</td>\n",
              "      <td>-94</td>\n",
              "      <td>...</td>\n",
              "      <td>57</td>\n",
              "      <td>64</td>\n",
              "      <td>48</td>\n",
              "      <td>19</td>\n",
              "      <td>-12</td>\n",
              "      <td>-30</td>\n",
              "      <td>-35</td>\n",
              "      <td>-35</td>\n",
              "      <td>-36</td>\n",
              "      <td>5</td>\n",
              "    </tr>\n",
              "    <tr>\n",
              "      <th>3</th>\n",
              "      <td>-105</td>\n",
              "      <td>-101</td>\n",
              "      <td>-96</td>\n",
              "      <td>-92</td>\n",
              "      <td>-89</td>\n",
              "      <td>-95</td>\n",
              "      <td>-102</td>\n",
              "      <td>-100</td>\n",
              "      <td>-87</td>\n",
              "      <td>-79</td>\n",
              "      <td>...</td>\n",
              "      <td>-82</td>\n",
              "      <td>-81</td>\n",
              "      <td>-80</td>\n",
              "      <td>-77</td>\n",
              "      <td>-85</td>\n",
              "      <td>-77</td>\n",
              "      <td>-72</td>\n",
              "      <td>-69</td>\n",
              "      <td>-65</td>\n",
              "      <td>5</td>\n",
              "    </tr>\n",
              "    <tr>\n",
              "      <th>4</th>\n",
              "      <td>-9</td>\n",
              "      <td>-65</td>\n",
              "      <td>-98</td>\n",
              "      <td>-102</td>\n",
              "      <td>-78</td>\n",
              "      <td>-48</td>\n",
              "      <td>-16</td>\n",
              "      <td>0</td>\n",
              "      <td>-21</td>\n",
              "      <td>-59</td>\n",
              "      <td>...</td>\n",
              "      <td>4</td>\n",
              "      <td>2</td>\n",
              "      <td>-12</td>\n",
              "      <td>-32</td>\n",
              "      <td>-41</td>\n",
              "      <td>-65</td>\n",
              "      <td>-83</td>\n",
              "      <td>-89</td>\n",
              "      <td>-73</td>\n",
              "      <td>5</td>\n",
              "    </tr>\n",
              "  </tbody>\n",
              "</table>\n",
              "<p>5 rows × 179 columns</p>\n",
              "</div>\n",
              "      <button class=\"colab-df-convert\" onclick=\"convertToInteractive('df-e3e510a6-8f48-4c6e-b447-e108e20d5bc8')\"\n",
              "              title=\"Convert this dataframe to an interactive table.\"\n",
              "              style=\"display:none;\">\n",
              "        \n",
              "  <svg xmlns=\"http://www.w3.org/2000/svg\" height=\"24px\"viewBox=\"0 0 24 24\"\n",
              "       width=\"24px\">\n",
              "    <path d=\"M0 0h24v24H0V0z\" fill=\"none\"/>\n",
              "    <path d=\"M18.56 5.44l.94 2.06.94-2.06 2.06-.94-2.06-.94-.94-2.06-.94 2.06-2.06.94zm-11 1L8.5 8.5l.94-2.06 2.06-.94-2.06-.94L8.5 2.5l-.94 2.06-2.06.94zm10 10l.94 2.06.94-2.06 2.06-.94-2.06-.94-.94-2.06-.94 2.06-2.06.94z\"/><path d=\"M17.41 7.96l-1.37-1.37c-.4-.4-.92-.59-1.43-.59-.52 0-1.04.2-1.43.59L10.3 9.45l-7.72 7.72c-.78.78-.78 2.05 0 2.83L4 21.41c.39.39.9.59 1.41.59.51 0 1.02-.2 1.41-.59l7.78-7.78 2.81-2.81c.8-.78.8-2.07 0-2.86zM5.41 20L4 18.59l7.72-7.72 1.47 1.35L5.41 20z\"/>\n",
              "  </svg>\n",
              "      </button>\n",
              "      \n",
              "  <style>\n",
              "    .colab-df-container {\n",
              "      display:flex;\n",
              "      flex-wrap:wrap;\n",
              "      gap: 12px;\n",
              "    }\n",
              "\n",
              "    .colab-df-convert {\n",
              "      background-color: #E8F0FE;\n",
              "      border: none;\n",
              "      border-radius: 50%;\n",
              "      cursor: pointer;\n",
              "      display: none;\n",
              "      fill: #1967D2;\n",
              "      height: 32px;\n",
              "      padding: 0 0 0 0;\n",
              "      width: 32px;\n",
              "    }\n",
              "\n",
              "    .colab-df-convert:hover {\n",
              "      background-color: #E2EBFA;\n",
              "      box-shadow: 0px 1px 2px rgba(60, 64, 67, 0.3), 0px 1px 3px 1px rgba(60, 64, 67, 0.15);\n",
              "      fill: #174EA6;\n",
              "    }\n",
              "\n",
              "    [theme=dark] .colab-df-convert {\n",
              "      background-color: #3B4455;\n",
              "      fill: #D2E3FC;\n",
              "    }\n",
              "\n",
              "    [theme=dark] .colab-df-convert:hover {\n",
              "      background-color: #434B5C;\n",
              "      box-shadow: 0px 1px 3px 1px rgba(0, 0, 0, 0.15);\n",
              "      filter: drop-shadow(0px 1px 2px rgba(0, 0, 0, 0.3));\n",
              "      fill: #FFFFFF;\n",
              "    }\n",
              "  </style>\n",
              "\n",
              "      <script>\n",
              "        const buttonEl =\n",
              "          document.querySelector('#df-e3e510a6-8f48-4c6e-b447-e108e20d5bc8 button.colab-df-convert');\n",
              "        buttonEl.style.display =\n",
              "          google.colab.kernel.accessAllowed ? 'block' : 'none';\n",
              "\n",
              "        async function convertToInteractive(key) {\n",
              "          const element = document.querySelector('#df-e3e510a6-8f48-4c6e-b447-e108e20d5bc8');\n",
              "          const dataTable =\n",
              "            await google.colab.kernel.invokeFunction('convertToInteractive',\n",
              "                                                     [key], {});\n",
              "          if (!dataTable) return;\n",
              "\n",
              "          const docLinkHtml = 'Like what you see? Visit the ' +\n",
              "            '<a target=\"_blank\" href=https://colab.research.google.com/notebooks/data_table.ipynb>data table notebook</a>'\n",
              "            + ' to learn more about interactive tables.';\n",
              "          element.innerHTML = '';\n",
              "          dataTable['output_type'] = 'display_data';\n",
              "          await google.colab.output.renderOutput(dataTable, element);\n",
              "          const docLink = document.createElement('div');\n",
              "          docLink.innerHTML = docLinkHtml;\n",
              "          element.appendChild(docLink);\n",
              "        }\n",
              "      </script>\n",
              "    </div>\n",
              "  </div>\n",
              "  "
            ]
          },
          "metadata": {},
          "execution_count": 6
        }
      ],
      "source": [
        "data.head()"
      ]
    },
    {
      "cell_type": "code",
      "execution_count": null,
      "metadata": {
        "id": "bZtmhgywxH7p"
      },
      "outputs": [],
      "source": [
        "class_relabeling = {1:1, 2:0, 3:0, 4:0, 5:0}\n",
        "data.replace({'y': class_relabeling}, inplace=True)"
      ]
    },
    {
      "cell_type": "code",
      "execution_count": null,
      "metadata": {
        "colab": {
          "base_uri": "https://localhost:8080/"
        },
        "id": "ViTAydnRxNN_",
        "outputId": "d45e1c22-f4d9-431f-a550-1660ca89a94d"
      },
      "outputs": [
        {
          "output_type": "stream",
          "name": "stdout",
          "text": [
            "Number of records epileptic 2300 vs non-epileptic 9200\n"
          ]
        }
      ],
      "source": [
        "counts = data['y'].value_counts()\n",
        "print(f\"Number of records epileptic {counts[1]} vs non-epileptic {counts[0]}\")"
      ]
    },
    {
      "cell_type": "code",
      "execution_count": null,
      "metadata": {
        "id": "_5pbEkz5xU1u"
      },
      "outputs": [],
      "source": [
        "data_unpivoted = (data\n",
        "                  .melt(id_vars=['y'], var_name='time_label', value_name='eeg', ignore_index=False)\n",
        "                  .reset_index()\n",
        "                  .rename(columns={'index': 'sample_index'})\n",
        "                  )\n",
        "\n",
        "data_unpivoted['time_index'] = (data_unpivoted['time_label']\n",
        "                                .str.extract(r'(\\d+)', expand=False)\n",
        "                                .astype(int)\n",
        "                                )\n",
        "\n",
        "data_unpivoted = (data_unpivoted\n",
        "                  .sort_values(by=['sample_index', 'time_index'])\n",
        "                  .reindex(['sample_index', 'time_index', 'eeg', 'y'], axis=1)\n",
        "                  )"
      ]
    },
    {
      "cell_type": "markdown",
      "source": [
        "**Crisp Datset for Statistical Analysis**"
      ],
      "metadata": {
        "id": "jT9UwFC1aMlT"
      }
    },
    {
      "cell_type": "code",
      "execution_count": null,
      "metadata": {
        "colab": {
          "base_uri": "https://localhost:8080/",
          "height": 423
        },
        "id": "nfRlUjbQxwAP",
        "outputId": "8977b09f-efc8-4fb1-c5cb-5a8ecccc7bd6"
      },
      "outputs": [
        {
          "output_type": "execute_result",
          "data": {
            "text/plain": [
              "         sample_index  time_index  eeg  y\n",
              "0                   0           1  135  0\n",
              "11500               0           2  190  0\n",
              "23000               0           3  229  0\n",
              "34500               0           4  223  0\n",
              "46000               0           5  192  0\n",
              "...               ...         ...  ... ..\n",
              "2000999         11499         174    5  0\n",
              "2012499         11499         175    4  0\n",
              "2023999         11499         176   -2  0\n",
              "2035499         11499         177    2  0\n",
              "2046999         11499         178   20  0\n",
              "\n",
              "[2047000 rows x 4 columns]"
            ],
            "text/html": [
              "\n",
              "  <div id=\"df-b7bd9c8d-0be7-4d21-908d-d2d268e6a95c\">\n",
              "    <div class=\"colab-df-container\">\n",
              "      <div>\n",
              "<style scoped>\n",
              "    .dataframe tbody tr th:only-of-type {\n",
              "        vertical-align: middle;\n",
              "    }\n",
              "\n",
              "    .dataframe tbody tr th {\n",
              "        vertical-align: top;\n",
              "    }\n",
              "\n",
              "    .dataframe thead th {\n",
              "        text-align: right;\n",
              "    }\n",
              "</style>\n",
              "<table border=\"1\" class=\"dataframe\">\n",
              "  <thead>\n",
              "    <tr style=\"text-align: right;\">\n",
              "      <th></th>\n",
              "      <th>sample_index</th>\n",
              "      <th>time_index</th>\n",
              "      <th>eeg</th>\n",
              "      <th>y</th>\n",
              "    </tr>\n",
              "  </thead>\n",
              "  <tbody>\n",
              "    <tr>\n",
              "      <th>0</th>\n",
              "      <td>0</td>\n",
              "      <td>1</td>\n",
              "      <td>135</td>\n",
              "      <td>0</td>\n",
              "    </tr>\n",
              "    <tr>\n",
              "      <th>11500</th>\n",
              "      <td>0</td>\n",
              "      <td>2</td>\n",
              "      <td>190</td>\n",
              "      <td>0</td>\n",
              "    </tr>\n",
              "    <tr>\n",
              "      <th>23000</th>\n",
              "      <td>0</td>\n",
              "      <td>3</td>\n",
              "      <td>229</td>\n",
              "      <td>0</td>\n",
              "    </tr>\n",
              "    <tr>\n",
              "      <th>34500</th>\n",
              "      <td>0</td>\n",
              "      <td>4</td>\n",
              "      <td>223</td>\n",
              "      <td>0</td>\n",
              "    </tr>\n",
              "    <tr>\n",
              "      <th>46000</th>\n",
              "      <td>0</td>\n",
              "      <td>5</td>\n",
              "      <td>192</td>\n",
              "      <td>0</td>\n",
              "    </tr>\n",
              "    <tr>\n",
              "      <th>...</th>\n",
              "      <td>...</td>\n",
              "      <td>...</td>\n",
              "      <td>...</td>\n",
              "      <td>...</td>\n",
              "    </tr>\n",
              "    <tr>\n",
              "      <th>2000999</th>\n",
              "      <td>11499</td>\n",
              "      <td>174</td>\n",
              "      <td>5</td>\n",
              "      <td>0</td>\n",
              "    </tr>\n",
              "    <tr>\n",
              "      <th>2012499</th>\n",
              "      <td>11499</td>\n",
              "      <td>175</td>\n",
              "      <td>4</td>\n",
              "      <td>0</td>\n",
              "    </tr>\n",
              "    <tr>\n",
              "      <th>2023999</th>\n",
              "      <td>11499</td>\n",
              "      <td>176</td>\n",
              "      <td>-2</td>\n",
              "      <td>0</td>\n",
              "    </tr>\n",
              "    <tr>\n",
              "      <th>2035499</th>\n",
              "      <td>11499</td>\n",
              "      <td>177</td>\n",
              "      <td>2</td>\n",
              "      <td>0</td>\n",
              "    </tr>\n",
              "    <tr>\n",
              "      <th>2046999</th>\n",
              "      <td>11499</td>\n",
              "      <td>178</td>\n",
              "      <td>20</td>\n",
              "      <td>0</td>\n",
              "    </tr>\n",
              "  </tbody>\n",
              "</table>\n",
              "<p>2047000 rows × 4 columns</p>\n",
              "</div>\n",
              "      <button class=\"colab-df-convert\" onclick=\"convertToInteractive('df-b7bd9c8d-0be7-4d21-908d-d2d268e6a95c')\"\n",
              "              title=\"Convert this dataframe to an interactive table.\"\n",
              "              style=\"display:none;\">\n",
              "        \n",
              "  <svg xmlns=\"http://www.w3.org/2000/svg\" height=\"24px\"viewBox=\"0 0 24 24\"\n",
              "       width=\"24px\">\n",
              "    <path d=\"M0 0h24v24H0V0z\" fill=\"none\"/>\n",
              "    <path d=\"M18.56 5.44l.94 2.06.94-2.06 2.06-.94-2.06-.94-.94-2.06-.94 2.06-2.06.94zm-11 1L8.5 8.5l.94-2.06 2.06-.94-2.06-.94L8.5 2.5l-.94 2.06-2.06.94zm10 10l.94 2.06.94-2.06 2.06-.94-2.06-.94-.94-2.06-.94 2.06-2.06.94z\"/><path d=\"M17.41 7.96l-1.37-1.37c-.4-.4-.92-.59-1.43-.59-.52 0-1.04.2-1.43.59L10.3 9.45l-7.72 7.72c-.78.78-.78 2.05 0 2.83L4 21.41c.39.39.9.59 1.41.59.51 0 1.02-.2 1.41-.59l7.78-7.78 2.81-2.81c.8-.78.8-2.07 0-2.86zM5.41 20L4 18.59l7.72-7.72 1.47 1.35L5.41 20z\"/>\n",
              "  </svg>\n",
              "      </button>\n",
              "      \n",
              "  <style>\n",
              "    .colab-df-container {\n",
              "      display:flex;\n",
              "      flex-wrap:wrap;\n",
              "      gap: 12px;\n",
              "    }\n",
              "\n",
              "    .colab-df-convert {\n",
              "      background-color: #E8F0FE;\n",
              "      border: none;\n",
              "      border-radius: 50%;\n",
              "      cursor: pointer;\n",
              "      display: none;\n",
              "      fill: #1967D2;\n",
              "      height: 32px;\n",
              "      padding: 0 0 0 0;\n",
              "      width: 32px;\n",
              "    }\n",
              "\n",
              "    .colab-df-convert:hover {\n",
              "      background-color: #E2EBFA;\n",
              "      box-shadow: 0px 1px 2px rgba(60, 64, 67, 0.3), 0px 1px 3px 1px rgba(60, 64, 67, 0.15);\n",
              "      fill: #174EA6;\n",
              "    }\n",
              "\n",
              "    [theme=dark] .colab-df-convert {\n",
              "      background-color: #3B4455;\n",
              "      fill: #D2E3FC;\n",
              "    }\n",
              "\n",
              "    [theme=dark] .colab-df-convert:hover {\n",
              "      background-color: #434B5C;\n",
              "      box-shadow: 0px 1px 3px 1px rgba(0, 0, 0, 0.15);\n",
              "      filter: drop-shadow(0px 1px 2px rgba(0, 0, 0, 0.3));\n",
              "      fill: #FFFFFF;\n",
              "    }\n",
              "  </style>\n",
              "\n",
              "      <script>\n",
              "        const buttonEl =\n",
              "          document.querySelector('#df-b7bd9c8d-0be7-4d21-908d-d2d268e6a95c button.colab-df-convert');\n",
              "        buttonEl.style.display =\n",
              "          google.colab.kernel.accessAllowed ? 'block' : 'none';\n",
              "\n",
              "        async function convertToInteractive(key) {\n",
              "          const element = document.querySelector('#df-b7bd9c8d-0be7-4d21-908d-d2d268e6a95c');\n",
              "          const dataTable =\n",
              "            await google.colab.kernel.invokeFunction('convertToInteractive',\n",
              "                                                     [key], {});\n",
              "          if (!dataTable) return;\n",
              "\n",
              "          const docLinkHtml = 'Like what you see? Visit the ' +\n",
              "            '<a target=\"_blank\" href=https://colab.research.google.com/notebooks/data_table.ipynb>data table notebook</a>'\n",
              "            + ' to learn more about interactive tables.';\n",
              "          element.innerHTML = '';\n",
              "          dataTable['output_type'] = 'display_data';\n",
              "          await google.colab.output.renderOutput(dataTable, element);\n",
              "          const docLink = document.createElement('div');\n",
              "          docLink.innerHTML = docLinkHtml;\n",
              "          element.appendChild(docLink);\n",
              "        }\n",
              "      </script>\n",
              "    </div>\n",
              "  </div>\n",
              "  "
            ]
          },
          "metadata": {},
          "execution_count": 10
        }
      ],
      "source": [
        "data_unpivoted"
      ]
    },
    {
      "cell_type": "code",
      "execution_count": null,
      "metadata": {
        "id": "HOXbb62qyECw"
      },
      "outputs": [],
      "source": [
        "n = 7\n",
        "\n",
        "index_n_epileptic = data_unpivoted[data_unpivoted['y'] == 1][\"sample_index\"].unique()[:n]\n",
        "index_n_nonepileptic = data_unpivoted[data_unpivoted['y'] == 0][\"sample_index\"].unique()[:n]\n",
        "\n",
        "samples_to_show = np.concatenate((index_n_epileptic, index_n_nonepileptic))"
      ]
    },
    {
      "cell_type": "code",
      "execution_count": null,
      "metadata": {
        "colab": {
          "base_uri": "https://localhost:8080/",
          "height": 561
        },
        "id": "FLV4OH6Xyc_3",
        "outputId": "0bf630ad-36c7-408a-a87e-2bf07d8b7cc6"
      },
      "outputs": [
        {
          "output_type": "stream",
          "name": "stderr",
          "text": [
            "<ipython-input-12-7b75ff2ed8df>:1: UserWarning: \n",
            "The palette list has fewer values (10) than needed (14) and will cycle, which may produce an uninterpretable plot.\n",
            "  g = sns.relplot(\n"
          ]
        },
        {
          "output_type": "display_data",
          "data": {
            "text/plain": [
              "<Figure size 1106.61x500 with 2 Axes>"
            ],
            "image/png": "[encoded data removed]"
          },
          "metadata": {}
        }
      ],
      "source": [
        "g = sns.relplot(\n",
        "    data=data_unpivoted[data_unpivoted[\"sample_index\"].isin(samples_to_show)],\n",
        "    kind='line',\n",
        "    x='time_index',\n",
        "    y='eeg',\n",
        "    col='y',\n",
        "    hue='sample_index',\n",
        "    legend='full',\n",
        "    palette=sns.color_palette()\n",
        ")"
      ]
    },
    {
      "cell_type": "code",
      "execution_count": null,
      "metadata": {
        "colab": {
          "base_uri": "https://localhost:8080/",
          "height": 524
        },
        "id": "8zLOPIQ8y_Kw",
        "outputId": "f417a8ca-8404-46c6-9dec-4812576bc18e"
      },
      "outputs": [
        {
          "output_type": "execute_result",
          "data": {
            "text/plain": [
              "<seaborn.axisgrid.FacetGrid at 0x7f979030b5b0>"
            ]
          },
          "metadata": {},
          "execution_count": 13
        },
        {
          "output_type": "display_data",
          "data": {
            "text/plain": [
              "<Figure size 500x500 with 1 Axes>"
            ],
            "image/png": "[encoded data removed]"
          },
          "metadata": {}
        }
      ],
      "source": [
        "g = sns.catplot(\n",
        "    data=data_unpivoted.groupby([\"sample_index\", \"y\"]).std().reset_index(),\n",
        "    kind='box',\n",
        "    x='y',\n",
        "    y='eeg',\n",
        ")\n",
        "g.set_ylabels(\"std of eeg\")"
      ]
    },
    {
      "cell_type": "code",
      "execution_count": null,
      "metadata": {
        "colab": {
          "base_uri": "https://localhost:8080/",
          "height": 524
        },
        "id": "nsCgMbC00xgg",
        "outputId": "b8033ea7-9131-4c91-f0ca-428f72347f77"
      },
      "outputs": [
        {
          "output_type": "execute_result",
          "data": {
            "text/plain": [
              "<seaborn.axisgrid.FacetGrid at 0x7f9790dc4940>"
            ]
          },
          "metadata": {},
          "execution_count": 14
        },
        {
          "output_type": "display_data",
          "data": {
            "text/plain": [
              "<Figure size 558.875x500 with 1 Axes>"
            ],
            "image/png": "[encoded data removed]"
          },
          "metadata": {}
        }
      ],
      "source": [
        "sns.displot(\n",
        "    data=data_unpivoted.groupby([\"sample_index\", \"y\"]).std().reset_index(),\n",
        "    kind='kde',\n",
        "    x='eeg',\n",
        "    hue='y'\n",
        ")"
      ]
    },
    {
      "cell_type": "code",
      "execution_count": null,
      "metadata": {
        "colab": {
          "base_uri": "https://localhost:8080/",
          "height": 300
        },
        "id": "77qr8wqN15xA",
        "outputId": "d98936d2-6990-46df-f162-657484c22486"
      },
      "outputs": [
        {
          "output_type": "execute_result",
          "data": {
            "text/plain": [
              "       sample_index    time_index           eeg          y\n",
              "count  2.047000e+06  2.047000e+06  2.047000e+06  2047000.0\n",
              "mean   5.749500e+03  8.950000e+01 -7.722436e+00        0.2\n",
              "std    3.319765e+03  5.138338e+01  1.645881e+02        0.4\n",
              "min    0.000000e+00  1.000000e+00 -1.885000e+03        0.0\n",
              "25%    2.874750e+03  4.500000e+01 -5.300000e+01        0.0\n",
              "50%    5.749500e+03  8.950000e+01 -7.000000e+00        0.0\n",
              "75%    8.624250e+03  1.340000e+02  3.600000e+01        0.0\n",
              "max    1.149900e+04  1.780000e+02  2.047000e+03        1.0"
            ],
            "text/html": [
              "\n",
              "  <div id=\"df-4f9727d1-9963-4c5c-910a-9f6fa5864422\">\n",
              "    <div class=\"colab-df-container\">\n",
              "      <div>\n",
              "<style scoped>\n",
              "    .dataframe tbody tr th:only-of-type {\n",
              "        vertical-align: middle;\n",
              "    }\n",
              "\n",
              "    .dataframe tbody tr th {\n",
              "        vertical-align: top;\n",
              "    }\n",
              "\n",
              "    .dataframe thead th {\n",
              "        text-align: right;\n",
              "    }\n",
              "</style>\n",
              "<table border=\"1\" class=\"dataframe\">\n",
              "  <thead>\n",
              "    <tr style=\"text-align: right;\">\n",
              "      <th></th>\n",
              "      <th>sample_index</th>\n",
              "      <th>time_index</th>\n",
              "      <th>eeg</th>\n",
              "      <th>y</th>\n",
              "    </tr>\n",
              "  </thead>\n",
              "  <tbody>\n",
              "    <tr>\n",
              "      <th>count</th>\n",
              "      <td>2.047000e+06</td>\n",
              "      <td>2.047000e+06</td>\n",
              "      <td>2.047000e+06</td>\n",
              "      <td>2047000.0</td>\n",
              "    </tr>\n",
              "    <tr>\n",
              "      <th>mean</th>\n",
              "      <td>5.749500e+03</td>\n",
              "      <td>8.950000e+01</td>\n",
              "      <td>-7.722436e+00</td>\n",
              "      <td>0.2</td>\n",
              "    </tr>\n",
              "    <tr>\n",
              "      <th>std</th>\n",
              "      <td>3.319765e+03</td>\n",
              "      <td>5.138338e+01</td>\n",
              "      <td>1.645881e+02</td>\n",
              "      <td>0.4</td>\n",
              "    </tr>\n",
              "    <tr>\n",
              "      <th>min</th>\n",
              "      <td>0.000000e+00</td>\n",
              "      <td>1.000000e+00</td>\n",
              "      <td>-1.885000e+03</td>\n",
              "      <td>0.0</td>\n",
              "    </tr>\n",
              "    <tr>\n",
              "      <th>25%</th>\n",
              "      <td>2.874750e+03</td>\n",
              "      <td>4.500000e+01</td>\n",
              "      <td>-5.300000e+01</td>\n",
              "      <td>0.0</td>\n",
              "    </tr>\n",
              "    <tr>\n",
              "      <th>50%</th>\n",
              "      <td>5.749500e+03</td>\n",
              "      <td>8.950000e+01</td>\n",
              "      <td>-7.000000e+00</td>\n",
              "      <td>0.0</td>\n",
              "    </tr>\n",
              "    <tr>\n",
              "      <th>75%</th>\n",
              "      <td>8.624250e+03</td>\n",
              "      <td>1.340000e+02</td>\n",
              "      <td>3.600000e+01</td>\n",
              "      <td>0.0</td>\n",
              "    </tr>\n",
              "    <tr>\n",
              "      <th>max</th>\n",
              "      <td>1.149900e+04</td>\n",
              "      <td>1.780000e+02</td>\n",
              "      <td>2.047000e+03</td>\n",
              "      <td>1.0</td>\n",
              "    </tr>\n",
              "  </tbody>\n",
              "</table>\n",
              "</div>\n",
              "      <button class=\"colab-df-convert\" onclick=\"convertToInteractive('df-4f9727d1-9963-4c5c-910a-9f6fa5864422')\"\n",
              "              title=\"Convert this dataframe to an interactive table.\"\n",
              "              style=\"display:none;\">\n",
              "        \n",
              "  <svg xmlns=\"http://www.w3.org/2000/svg\" height=\"24px\"viewBox=\"0 0 24 24\"\n",
              "       width=\"24px\">\n",
              "    <path d=\"M0 0h24v24H0V0z\" fill=\"none\"/>\n",
              "    <path d=\"M18.56 5.44l.94 2.06.94-2.06 2.06-.94-2.06-.94-.94-2.06-.94 2.06-2.06.94zm-11 1L8.5 8.5l.94-2.06 2.06-.94-2.06-.94L8.5 2.5l-.94 2.06-2.06.94zm10 10l.94 2.06.94-2.06 2.06-.94-2.06-.94-.94-2.06-.94 2.06-2.06.94z\"/><path d=\"M17.41 7.96l-1.37-1.37c-.4-.4-.92-.59-1.43-.59-.52 0-1.04.2-1.43.59L10.3 9.45l-7.72 7.72c-.78.78-.78 2.05 0 2.83L4 21.41c.39.39.9.59 1.41.59.51 0 1.02-.2 1.41-.59l7.78-7.78 2.81-2.81c.8-.78.8-2.07 0-2.86zM5.41 20L4 18.59l7.72-7.72 1.47 1.35L5.41 20z\"/>\n",
              "  </svg>\n",
              "      </button>\n",
              "      \n",
              "  <style>\n",
              "    .colab-df-container {\n",
              "      display:flex;\n",
              "      flex-wrap:wrap;\n",
              "      gap: 12px;\n",
              "    }\n",
              "\n",
              "    .colab-df-convert {\n",
              "      background-color: #E8F0FE;\n",
              "      border: none;\n",
              "      border-radius: 50%;\n",
              "      cursor: pointer;\n",
              "      display: none;\n",
              "      fill: #1967D2;\n",
              "      height: 32px;\n",
              "      padding: 0 0 0 0;\n",
              "      width: 32px;\n",
              "    }\n",
              "\n",
              "    .colab-df-convert:hover {\n",
              "      background-color: #E2EBFA;\n",
              "      box-shadow: 0px 1px 2px rgba(60, 64, 67, 0.3), 0px 1px 3px 1px rgba(60, 64, 67, 0.15);\n",
              "      fill: #174EA6;\n",
              "    }\n",
              "\n",
              "    [theme=dark] .colab-df-convert {\n",
              "      background-color: #3B4455;\n",
              "      fill: #D2E3FC;\n",
              "    }\n",
              "\n",
              "    [theme=dark] .colab-df-convert:hover {\n",
              "      background-color: #434B5C;\n",
              "      box-shadow: 0px 1px 3px 1px rgba(0, 0, 0, 0.15);\n",
              "      filter: drop-shadow(0px 1px 2px rgba(0, 0, 0, 0.3));\n",
              "      fill: #FFFFFF;\n",
              "    }\n",
              "  </style>\n",
              "\n",
              "      <script>\n",
              "        const buttonEl =\n",
              "          document.querySelector('#df-4f9727d1-9963-4c5c-910a-9f6fa5864422 button.colab-df-convert');\n",
              "        buttonEl.style.display =\n",
              "          google.colab.kernel.accessAllowed ? 'block' : 'none';\n",
              "\n",
              "        async function convertToInteractive(key) {\n",
              "          const element = document.querySelector('#df-4f9727d1-9963-4c5c-910a-9f6fa5864422');\n",
              "          const dataTable =\n",
              "            await google.colab.kernel.invokeFunction('convertToInteractive',\n",
              "                                                     [key], {});\n",
              "          if (!dataTable) return;\n",
              "\n",
              "          const docLinkHtml = 'Like what you see? Visit the ' +\n",
              "            '<a target=\"_blank\" href=https://colab.research.google.com/notebooks/data_table.ipynb>data table notebook</a>'\n",
              "            + ' to learn more about interactive tables.';\n",
              "          element.innerHTML = '';\n",
              "          dataTable['output_type'] = 'display_data';\n",
              "          await google.colab.output.renderOutput(dataTable, element);\n",
              "          const docLink = document.createElement('div');\n",
              "          docLink.innerHTML = docLinkHtml;\n",
              "          element.appendChild(docLink);\n",
              "        }\n",
              "      </script>\n",
              "    </div>\n",
              "  </div>\n",
              "  "
            ]
          },
          "metadata": {},
          "execution_count": 15
        }
      ],
      "source": [
        "data_unpivoted.describe()"
      ]
    },
    {
      "cell_type": "code",
      "execution_count": null,
      "metadata": {
        "colab": {
          "base_uri": "https://localhost:8080/"
        },
        "id": "126wSgcd7GFA",
        "outputId": "4b79d203-bb20-4bf5-8809-55b6d11ce38e"
      },
      "outputs": [
        {
          "output_type": "execute_result",
          "data": {
            "text/plain": [
              "array([0, 1, 0, ..., 0, 0, 0])"
            ]
          },
          "metadata": {},
          "execution_count": 16
        }
      ],
      "source": [
        "Y = data.iloc[:,178].values\n",
        "Y.shape\n",
        "Y[Y>1]=0\n",
        "Y\n",
        "\n"
      ]
    },
    {
      "cell_type": "code",
      "execution_count": null,
      "metadata": {
        "colab": {
          "base_uri": "https://localhost:8080/"
        },
        "id": "aCPhLbDFGCn2",
        "outputId": "434b2ea7-1568-4fc9-a262-3d38ab847080"
      },
      "outputs": [
        {
          "output_type": "execute_result",
          "data": {
            "text/plain": [
              "array([[ 135,  190,  229, ..., -116,  -83,  -51],\n",
              "       [ 386,  382,  356, ...,  154,  143,  129],\n",
              "       [ -32,  -39,  -47, ...,  -35,  -35,  -36],\n",
              "       ...,\n",
              "       [  14,    6,  -13, ...,   -2,   -1,   -8],\n",
              "       [ -40,  -25,   -9, ...,   68,   59,   55],\n",
              "       [  29,   41,   57, ...,   -2,    2,   20]])"
            ]
          },
          "metadata": {},
          "execution_count": 17
        }
      ],
      "source": [
        "X = data.iloc[:,0:178].values\n",
        "X"
      ]
    },
    {
      "cell_type": "markdown",
      "source": [
        "**Feature Extraction : Discrete Wavelet Transform**"
      ],
      "metadata": {
        "id": "YiX7JPUCaec7"
      }
    },
    {
      "cell_type": "code",
      "execution_count": null,
      "metadata": {
        "id": "x9E0Y_DAP9Cg"
      },
      "outputs": [],
      "source": [
        "def apply_dwt(x):\n",
        "    coeffs = pywt.wavedec(x, 'db4', level=4)\n",
        "    return np.concatenate(coeffs)\n",
        "\n",
        "X_dwt = np.apply_along_axis(apply_dwt, axis=1, arr=X)"
      ]
    },
    {
      "cell_type": "markdown",
      "source": [
        "***Train-Test split ***"
      ],
      "metadata": {
        "id": "h7dJhX7MaqSD"
      }
    },
    {
      "cell_type": "code",
      "execution_count": null,
      "metadata": {
        "id": "jPlm1EKwPd4A"
      },
      "outputs": [],
      "source": [
        "X_train_dwt, X_test_dwt, y_train, y_test = train_test_split(X_dwt, Y, test_size=0.4, random_state=42)\n",
        "\n",
        "\n",
        "X_val, X_test_dwt, y_val, y_test = train_test_split(X_test_dwt,y_test,test_size=0.5,random_state=42)\n"
      ]
    },
    {
      "cell_type": "code",
      "source": [
        "X_train_dwt.shape\n"
      ],
      "metadata": {
        "colab": {
          "base_uri": "https://localhost:8080/"
        },
        "id": "R0RXgRiWR_EF",
        "outputId": "9fac720c-842d-45cb-9b35-72f4690420cf"
      },
      "execution_count": null,
      "outputs": [
        {
          "output_type": "execute_result",
          "data": {
            "text/plain": [
              "(6900, 203)"
            ]
          },
          "metadata": {},
          "execution_count": 20
        }
      ]
    },
    {
      "cell_type": "markdown",
      "metadata": {
        "id": "BrKDS7-S1rV2"
      },
      "source": [
        "**ALGORITHM: SVM**"
      ]
    },
    {
      "cell_type": "code",
      "execution_count": null,
      "metadata": {
        "colab": {
          "base_uri": "https://localhost:8080/"
        },
        "id": "H4NZErqEGiOs",
        "outputId": "3d93e5f9-d6c9-4a74-f110-446af4eb16fd"
      },
      "outputs": [
        {
          "output_type": "stream",
          "name": "stdout",
          "text": [
            "Accuracy: 96.08695652173913\n",
            "Precision: 0.9414519906323185\n",
            "Recall: 0.860813704496788\n",
            "F1-Score: 0.8993288590604026\n",
            "Confusion Matrix:\n",
            "[[1808   25]\n",
            " [  65  402]]\n"
          ]
        }
      ],
      "source": [
        "from sklearn.svm import SVC\n",
        "\n",
        "clf_S = SVC()\n",
        "clf_S.fit(X_train_dwt, y_train)\n",
        "y_pred = clf_S.predict(X_val)\n",
        "Svm_accuracy = accuracy_score(y_val, y_pred)\n",
        "print(\"Accuracy:\", Svm_accuracy*100)\n",
        "\n",
        "# Calculate precision\n",
        "precision = precision_score(y_val, y_pred)\n",
        "print(\"Precision:\", precision)\n",
        "\n",
        "# Calculate recall\n",
        "recall = recall_score(y_val, y_pred)\n",
        "print(\"Recall:\", recall)\n",
        "\n",
        "# Calculate F1-score\n",
        "f1 = f1_score(y_val, y_pred)\n",
        "print(\"F1-Score:\", f1)\n",
        "\n",
        "# Calculate and display the confusion matrix\n",
        "cm = confusion_matrix(y_val, y_pred)\n",
        "print(\"Confusion Matrix:\")\n",
        "print(cm)"
      ]
    },
    {
      "cell_type": "markdown",
      "metadata": {
        "id": "naay8eKA2Vhx"
      },
      "source": [
        "**ALGORITHM: Naive Bayes**"
      ]
    },
    {
      "cell_type": "code",
      "execution_count": null,
      "metadata": {
        "colab": {
          "base_uri": "https://localhost:8080/"
        },
        "id": "QZ4IHNOF10Tf",
        "outputId": "ba2de407-a6d6-4a72-d9ab-2f0150d5fd46"
      },
      "outputs": [
        {
          "output_type": "stream",
          "name": "stdout",
          "text": [
            "Accuracy: 94.3913043478261\n",
            "Precision: 0.868995633187773\n",
            "Recall: 0.8522483940042827\n",
            "F1-Score: 0.8605405405405405\n",
            "Confusion Matrix:\n",
            "[[1773   60]\n",
            " [  69  398]]\n"
          ]
        }
      ],
      "source": [
        "clf_N = GaussianNB()\n",
        "clf_N.fit(X_train_dwt, y_train)\n",
        "y_pred = clf_N.predict(X_val)\n",
        "NV_accuracy = accuracy_score(y_val, y_pred)\n",
        "print(\"Accuracy:\", NV_accuracy*100)\n",
        "\n",
        "# Calculate precision\n",
        "precision = precision_score(y_val, y_pred)\n",
        "print(\"Precision:\", precision)\n",
        "\n",
        "# Calculate recall\n",
        "recall = recall_score(y_val, y_pred)\n",
        "print(\"Recall:\", recall)\n",
        "\n",
        "# Calculate F1-score\n",
        "f1 = f1_score(y_val, y_pred)\n",
        "print(\"F1-Score:\", f1)\n",
        "\n",
        "# Calculate and display the confusion matrix\n",
        "cm = confusion_matrix(y_val, y_pred)\n",
        "print(\"Confusion Matrix:\")\n",
        "print(cm)"
      ]
    },
    {
      "cell_type": "markdown",
      "metadata": {
        "id": "fljtucNvXZzg"
      },
      "source": [
        "**Algorithm: ANN**"
      ]
    },
    {
      "cell_type": "code",
      "execution_count": null,
      "metadata": {
        "id": "tebVvidAK1AS"
      },
      "outputs": [],
      "source": [
        "from tensorflow.keras import callbacks"
      ]
    },
    {
      "cell_type": "code",
      "source": [
        "from sklearn.preprocessing import StandardScaler\n",
        "scaler = StandardScaler()\n",
        "\n",
        "#now we will going to scale the dataset\n",
        "X_train = scaler.fit_transform(X_train_dwt)\n",
        "X_val = scaler.transform(X_val)\n",
        "X_test = scaler.transform(X_test_dwt)"
      ],
      "metadata": {
        "id": "Vuu4yZpLT2UD"
      },
      "execution_count": null,
      "outputs": []
    },
    {
      "cell_type": "code",
      "execution_count": null,
      "metadata": {
        "colab": {
          "base_uri": "https://localhost:8080/"
        },
        "id": "83kzcmESgUvM",
        "outputId": "2fe5d4f0-1966-4ec2-dacb-92e523b3cd58"
      },
      "outputs": [
        {
          "output_type": "execute_result",
          "data": {
            "text/plain": [
              "(6900, 203)"
            ]
          },
          "metadata": {},
          "execution_count": 25
        }
      ],
      "source": [
        "X_train.shape"
      ]
    },
    {
      "cell_type": "markdown",
      "source": [
        "**Model Building**"
      ],
      "metadata": {
        "id": "1V5D9oKJbO-a"
      }
    },
    {
      "cell_type": "code",
      "execution_count": null,
      "metadata": {
        "colab": {
          "base_uri": "https://localhost:8080/"
        },
        "id": "3B14T5Xe-aos",
        "outputId": "952574ad-5899-47d8-839c-8c3e9f4472ac"
      },
      "outputs": [
        {
          "output_type": "stream",
          "name": "stdout",
          "text": [
            "Model: \"sequential\"\n",
            "_________________________________________________________________\n",
            " Layer (type)                Output Shape              Param #   \n",
            "=================================================================\n",
            " dense (Dense)               (None, 32)                6528      \n",
            "                                                                 \n",
            " dense_1 (Dense)             (None, 64)                2112      \n",
            "                                                                 \n",
            " dense_2 (Dense)             (None, 32)                2080      \n",
            "                                                                 \n",
            " dropout (Dropout)           (None, 32)                0         \n",
            "                                                                 \n",
            " dense_3 (Dense)             (None, 32)                1056      \n",
            "                                                                 \n",
            " dense_4 (Dense)             (None, 16)                528       \n",
            "                                                                 \n",
            " dropout_1 (Dropout)         (None, 16)                0         \n",
            "                                                                 \n",
            " dense_5 (Dense)             (None, 1)                 17        \n",
            "                                                                 \n",
            "=================================================================\n",
            "Total params: 12,321\n",
            "Trainable params: 12,321\n",
            "Non-trainable params: 0\n",
            "_________________________________________________________________\n"
          ]
        }
      ],
      "source": [
        "early_stopping = callbacks.EarlyStopping(\n",
        "    min_delta=0.001,\n",
        "    patience=20,\n",
        "    restore_best_weights=True\n",
        ")\n",
        "\n",
        "model = Sequential()\n",
        "\n",
        "#layers\n",
        "model.add(Dense(units=32,kernel_initializer='uniform',activation='relu',input_dim=203))\n",
        "\n",
        "model.add(Dense(units=64,kernel_initializer='uniform',activation='relu'))\n",
        "model.add(Dense(units=32,kernel_initializer='uniform',activation='relu'))\n",
        "model.add(Dropout(0.25))\n",
        "model.add(Dense(units=32,kernel_initializer='uniform',activation='relu'))\n",
        "model.add(Dense(units=16,kernel_initializer='uniform',activation='relu'))\n",
        "model.add(Dropout(0.5))\n",
        "model.add(Dense(units=1,kernel_initializer='uniform',activation='relu'))\n",
        "\n",
        "#finding out the summary of the model\n",
        "model.summary()"
      ]
    },
    {
      "cell_type": "code",
      "execution_count": null,
      "metadata": {
        "id": "LBL3mRng_eEL"
      },
      "outputs": [],
      "source": [
        "model.compile(optimizer='adam',loss='binary_crossentropy',metrics=['accuracy'])"
      ]
    },
    {
      "cell_type": "code",
      "execution_count": null,
      "metadata": {
        "colab": {
          "base_uri": "https://localhost:8080/"
        },
        "id": "R9cRG8YeA8Ez",
        "outputId": "a1b390d9-877c-48f6-d6d1-43cec85f3981"
      },
      "outputs": [
        {
          "output_type": "stream",
          "name": "stdout",
          "text": [
            "Epoch 1/500\n",
            "173/173 [==============================] - 3s 4ms/step - loss: 0.4719 - accuracy: 0.8703 - val_loss: 0.1830 - val_accuracy: 0.9232\n",
            "Epoch 2/500\n",
            "173/173 [==============================] - 0s 3ms/step - loss: 0.2010 - accuracy: 0.9371 - val_loss: 0.1713 - val_accuracy: 0.9428\n",
            "Epoch 3/500\n",
            "173/173 [==============================] - 0s 3ms/step - loss: 0.1830 - accuracy: 0.9527 - val_loss: 0.1662 - val_accuracy: 0.9514\n",
            "Epoch 4/500\n",
            "173/173 [==============================] - 0s 2ms/step - loss: 0.1709 - accuracy: 0.9558 - val_loss: 0.1539 - val_accuracy: 0.9522\n",
            "Epoch 5/500\n",
            "173/173 [==============================] - 0s 3ms/step - loss: 0.1860 - accuracy: 0.9491 - val_loss: 0.1811 - val_accuracy: 0.9500\n",
            "Epoch 6/500\n",
            "173/173 [==============================] - 0s 2ms/step - loss: 0.1474 - accuracy: 0.9609 - val_loss: 0.2324 - val_accuracy: 0.9565\n",
            "Epoch 7/500\n",
            "173/173 [==============================] - 1s 3ms/step - loss: 0.1578 - accuracy: 0.9676 - val_loss: 0.2218 - val_accuracy: 0.9558\n",
            "Epoch 8/500\n",
            "173/173 [==============================] - 0s 2ms/step - loss: 0.1433 - accuracy: 0.9694 - val_loss: 0.3427 - val_accuracy: 0.9500\n",
            "Epoch 9/500\n",
            "173/173 [==============================] - 0s 2ms/step - loss: 0.1298 - accuracy: 0.9741 - val_loss: 0.3902 - val_accuracy: 0.9536\n",
            "Epoch 10/500\n",
            "173/173 [==============================] - 0s 3ms/step - loss: 0.1485 - accuracy: 0.9688 - val_loss: 0.4056 - val_accuracy: 0.9435\n",
            "Epoch 11/500\n",
            "173/173 [==============================] - 0s 2ms/step - loss: 0.1474 - accuracy: 0.9692 - val_loss: 0.3635 - val_accuracy: 0.9529\n",
            "Epoch 12/500\n",
            "173/173 [==============================] - 0s 3ms/step - loss: 0.1354 - accuracy: 0.9685 - val_loss: 0.2461 - val_accuracy: 0.9406\n",
            "Epoch 13/500\n",
            "173/173 [==============================] - 0s 3ms/step - loss: 0.1300 - accuracy: 0.9685 - val_loss: 0.2908 - val_accuracy: 0.9514\n",
            "Epoch 14/500\n",
            "173/173 [==============================] - 0s 3ms/step - loss: 0.1256 - accuracy: 0.9721 - val_loss: 0.3064 - val_accuracy: 0.9486\n",
            "Epoch 15/500\n",
            "173/173 [==============================] - 1s 3ms/step - loss: 0.1563 - accuracy: 0.9614 - val_loss: 0.3249 - val_accuracy: 0.9428\n",
            "Epoch 16/500\n",
            "173/173 [==============================] - 0s 3ms/step - loss: 0.1303 - accuracy: 0.9678 - val_loss: 0.3173 - val_accuracy: 0.9428\n",
            "Epoch 17/500\n",
            "173/173 [==============================] - 0s 3ms/step - loss: 0.1247 - accuracy: 0.9676 - val_loss: 0.2919 - val_accuracy: 0.9435\n",
            "Epoch 18/500\n",
            "173/173 [==============================] - 0s 2ms/step - loss: 0.1128 - accuracy: 0.9781 - val_loss: 0.3571 - val_accuracy: 0.9442\n",
            "Epoch 19/500\n",
            "173/173 [==============================] - 0s 3ms/step - loss: 0.1092 - accuracy: 0.9806 - val_loss: 0.3977 - val_accuracy: 0.9478\n",
            "Epoch 20/500\n",
            "173/173 [==============================] - 0s 3ms/step - loss: 0.0884 - accuracy: 0.9797 - val_loss: 0.4665 - val_accuracy: 0.9428\n",
            "Epoch 21/500\n",
            "173/173 [==============================] - 1s 4ms/step - loss: 0.1102 - accuracy: 0.9799 - val_loss: 0.5228 - val_accuracy: 0.9449\n",
            "Epoch 22/500\n",
            "173/173 [==============================] - 1s 4ms/step - loss: 0.0862 - accuracy: 0.9826 - val_loss: 0.5845 - val_accuracy: 0.9507\n",
            "Epoch 23/500\n",
            "173/173 [==============================] - 1s 4ms/step - loss: 0.1162 - accuracy: 0.9772 - val_loss: 0.4777 - val_accuracy: 0.9493\n",
            "Epoch 24/500\n",
            "173/173 [==============================] - 1s 4ms/step - loss: 0.0918 - accuracy: 0.9821 - val_loss: 0.5089 - val_accuracy: 0.9428\n"
          ]
        }
      ],
      "source": [
        "model_train = model.fit(X_train,y_train,batch_size=32,epochs=500,callbacks=[early_stopping],validation_split=0.2)"
      ]
    },
    {
      "cell_type": "code",
      "execution_count": null,
      "metadata": {
        "colab": {
          "base_uri": "https://localhost:8080/"
        },
        "id": "UCImtAIMFGma",
        "outputId": "5af53e99-98e9-4ac4-e2ab-66ccaa53ad20"
      },
      "outputs": [
        {
          "output_type": "stream",
          "name": "stdout",
          "text": [
            "72/72 [==============================] - 0s 2ms/step\n",
            "Accuracy: 82.1304347826087\n"
          ]
        }
      ],
      "source": [
        "predictions = model.predict(X_val)\n",
        "pred_labels =np.round(predictions)\n",
        "Ann_accuracy = accuracy_score(y_val,pred_labels)\n",
        "\n",
        "print(\"Accuracy:\", Ann_accuracy*100)"
      ]
    },
    {
      "cell_type": "markdown",
      "source": [
        "**Algorithm : KNN**"
      ],
      "metadata": {
        "id": "pKF77Fj13cjA"
      }
    },
    {
      "cell_type": "code",
      "source": [
        "X_train_dwt, X_test_dwt, y_train, y_test = train_test_split(X_dwt, Y, test_size=0.4, random_state=42)\n",
        "\n",
        "#now we will be dividing it into further to get the validation set\n",
        "X_val, X_test_dwt, y_val, y_test = train_test_split(X_test_dwt,y_test,test_size=0.5,random_state=42)"
      ],
      "metadata": {
        "id": "6rtEMJ6EU9ts"
      },
      "execution_count": null,
      "outputs": []
    },
    {
      "cell_type": "code",
      "source": [
        "clf_k =  KNeighborsClassifier(n_neighbors= 100)\n",
        "clf_k.fit(X_train_dwt, y_train)\n",
        "y_pred = clf_k.predict(X_val)\n",
        "Knn_accuracy = accuracy_score(y_val, y_pred)\n",
        "print(\"Accuracy:\", Knn_accuracy*100)\n",
        "\n",
        "# Calculate precision\n",
        "precision = precision_score(y_val, y_pred)\n",
        "print(\"Precision:\", precision)\n",
        "\n",
        "# Calculate recall\n",
        "recall = recall_score(y_val, y_pred)\n",
        "print(\"Recall:\", recall)\n",
        "\n",
        "# Calculate F1-score\n",
        "f1 = f1_score(y_val, y_pred)\n",
        "print(\"F1-Score:\", f1)\n",
        "\n",
        "# confusion matrix\n",
        "cm = confusion_matrix(y_val, y_pred)\n",
        "print(\"Confusion Matrix:\")\n",
        "print(cm)"
      ],
      "metadata": {
        "colab": {
          "base_uri": "https://localhost:8080/"
        },
        "id": "W0HP-n3t6SL_",
        "outputId": "7e42dfeb-2476-485d-f30a-37e3a6f3698e"
      },
      "execution_count": null,
      "outputs": [
        {
          "output_type": "stream",
          "name": "stdout",
          "text": [
            "Accuracy: 83.0\n",
            "Precision: 0.975\n",
            "Recall: 0.1670235546038544\n",
            "F1-Score: 0.28519195612431447\n",
            "Confusion Matrix:\n",
            "[[1831    2]\n",
            " [ 389   78]]\n"
          ]
        }
      ]
    },
    {
      "cell_type": "markdown",
      "source": [
        "**Comparision Table of Accuracy**"
      ],
      "metadata": {
        "id": "Bm46t5x-7Ak3"
      }
    },
    {
      "cell_type": "code",
      "source": [
        "table = [\n",
        "    ['Naive B', NV_accuracy*100],\n",
        "    ['k-Nearest Neighbors', Knn_accuracy*100],\n",
        "    ['Support Vector Machines', Svm_accuracy*100],\n",
        "    ['Artificial Neural Networks', Ann_accuracy*100]\n",
        "]\n",
        "\n",
        "# Print the comparison table\n",
        "table.sort(key=lambda x: x[1], reverse=True)\n",
        "\n",
        "print('| Algorithm                    | Accuracy (%) |')\n",
        "print('|------------------------------|-----------|')\n",
        "for row in table:\n",
        "    print(f'| {row[0]:30} | {row[1]:.4f}    |')"
      ],
      "metadata": {
        "colab": {
          "base_uri": "https://localhost:8080/"
        },
        "id": "9Pp_pG5_6_lP",
        "outputId": "9cfac7ab-72d2-4e79-cb8e-c3f6674f2509"
      },
      "execution_count": null,
      "outputs": [
        {
          "output_type": "stream",
          "name": "stdout",
          "text": [
            "| Algorithm                    | Accuracy (%) |\n",
            "|------------------------------|-----------|\n",
            "| Support Vector Machines        | 96.0870    |\n",
            "| Naive B                        | 94.3913    |\n",
            "| k-Nearest Neighbors            | 83.0000    |\n",
            "| Artificial Neural Networks     | 82.1304    |\n"
          ]
        }
      ]
    },
    {
      "cell_type": "markdown",
      "source": [
        "**MODEL SELECTION AND PREDICTION FOR UNSEEN DATA**"
      ],
      "metadata": {
        "id": "CS2L5F80VDmN"
      }
    },
    {
      "cell_type": "code",
      "source": [
        "print(\"SVM\")\n",
        "y_pred = clf_S.predict(X_test_dwt)\n",
        "\n",
        "precision = accuracy_score(y_pred,y_test)* 100\n",
        "\n",
        "print(\"Accuracy of the model by using the SVM algorithm : {0:.2f}%\".format(precision))"
      ],
      "metadata": {
        "colab": {
          "base_uri": "https://localhost:8080/"
        },
        "id": "r64HqHpxVCx7",
        "outputId": "ff808564-0de2-4dfd-8fdf-4e4d1ab4f56b"
      },
      "execution_count": null,
      "outputs": [
        {
          "output_type": "stream",
          "name": "stdout",
          "text": [
            "SVM\n",
            "Accuracy of the model by using the SVM algorithm : 96.83%\n"
          ]
        }
      ]
    }
  ],
  "metadata": {
    "colab": {
      "provenance": []
    },
    "kernelspec": {
      "display_name": "Python 3",
      "name": "python3"
    },
    "language_info": {
      "name": "python"
    }
  },
  "nbformat": 4,
  "nbformat_minor": 0
}